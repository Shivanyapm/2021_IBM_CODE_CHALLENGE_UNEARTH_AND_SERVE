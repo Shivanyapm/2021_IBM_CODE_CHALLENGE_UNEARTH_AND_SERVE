{
 "cells": [
  {
   "cell_type": "code",
   "execution_count": 1,
   "metadata": {
    "id": "7k0fSeDnJRKU"
   },
   "outputs": [],
   "source": [
    "import warnings\n",
    "warnings.filterwarnings('ignore')\n",
    "\n",
    "import pandas as pd\n",
    "import numpy as np\n",
    "\n",
    "import matplotlib.pyplot as plt\n",
    "%matplotlib inline\n",
    "import seaborn as sns"
   ]
  },
  {
   "cell_type": "code",
   "execution_count": 2,
   "metadata": {
    "colab": {
     "base_uri": "https://localhost:8080/",
     "height": 287
    },
    "id": "_WLE0fXsOJm7",
    "outputId": "90db51f3-d1b3-4b3d-fc7e-39ba9f6aac31"
   },
   "outputs": [],
   "source": [
    "hl = pd.read_csv('Health_dataset1.csv')\n"
   ]
  },
  {
   "cell_type": "code",
   "execution_count": 3,
   "metadata": {
    "id": "418-jKgmOpsX"
   },
   "outputs": [
    {
     "name": "stdout",
     "output_type": "stream",
     "text": [
      "         Aadhar_id  Rationcard_Category  Monthly_Income  Gender  \\\n",
      "0     199000000000                    1           10000       1   \n",
      "1     994000000000                    1           10000       1   \n",
      "2     299000000000                    1           10000       1   \n",
      "4     499000000000                    1            9000       1   \n",
      "8     994000000000                    0            3000       1   \n",
      "...            ...                  ...             ...     ...   \n",
      "982   272000000000                    0             500       1   \n",
      "991   182000000000                    0            2000       0   \n",
      "992   172000000000                    0            2500       0   \n",
      "993   162000000000                    0            3000       0   \n",
      "1000  289000000000                    0            1500       1   \n",
      "\n",
      "      Chronic _Disease  Critical _or _noncritical  Surgery_needed  Target  \n",
      "0                    1                          1               1       1  \n",
      "1                    1                          1               1       1  \n",
      "2                    1                          1               1       1  \n",
      "4                    0                          0               0       1  \n",
      "8                    1                          1               1       1  \n",
      "...                ...                        ...             ...     ...  \n",
      "982                  1                          1               1       1  \n",
      "991                  1                          1               1       1  \n",
      "992                  1                          1               1       1  \n",
      "993                  1                          1               1       1  \n",
      "1000                 0                          0               0       1  \n",
      "\n",
      "[489 rows x 8 columns]\n"
     ]
    }
   ],
   "source": [
    "select_needy = hl.loc[hl['Target'] == 1]\n",
    "print (select_needy)\n",
    "  "
   ]
  },
  {
   "cell_type": "code",
   "execution_count": 4,
   "metadata": {
    "id": "0QsdJeusU4x4"
   },
   "outputs": [
    {
     "data": {
      "text/plain": [
       "Aadhar_id                    0\n",
       "Rationcard_Category          0\n",
       "Monthly_Income               0\n",
       "Gender                       0\n",
       "Chronic _Disease             0\n",
       "Critical _or _noncritical    0\n",
       "Surgery_needed               0\n",
       "Target                       0\n",
       "dtype: int64"
      ]
     },
     "execution_count": 4,
     "metadata": {},
     "output_type": "execute_result"
    }
   ],
   "source": [
    "hl.isna().sum()"
   ]
  },
  {
   "cell_type": "code",
   "execution_count": 5,
   "metadata": {
    "id": "k4UJd2tqU9nX"
   },
   "outputs": [
    {
     "data": {
      "text/plain": [
       "(1001, 8)"
      ]
     },
     "execution_count": 5,
     "metadata": {},
     "output_type": "execute_result"
    }
   ],
   "source": [
    "hl.shape"
   ]
  },
  {
   "cell_type": "code",
   "execution_count": 6,
   "metadata": {
    "id": "8iwzPI6bVDbH"
   },
   "outputs": [
    {
     "data": {
      "text/html": [
       "<div>\n",
       "<style scoped>\n",
       "    .dataframe tbody tr th:only-of-type {\n",
       "        vertical-align: middle;\n",
       "    }\n",
       "\n",
       "    .dataframe tbody tr th {\n",
       "        vertical-align: top;\n",
       "    }\n",
       "\n",
       "    .dataframe thead th {\n",
       "        text-align: right;\n",
       "    }\n",
       "</style>\n",
       "<table border=\"1\" class=\"dataframe\">\n",
       "  <thead>\n",
       "    <tr style=\"text-align: right;\">\n",
       "      <th></th>\n",
       "      <th>Aadhar_id</th>\n",
       "      <th>Rationcard_Category</th>\n",
       "      <th>Monthly_Income</th>\n",
       "      <th>Gender</th>\n",
       "      <th>Chronic _Disease</th>\n",
       "      <th>Critical _or _noncritical</th>\n",
       "      <th>Surgery_needed</th>\n",
       "      <th>Target</th>\n",
       "    </tr>\n",
       "  </thead>\n",
       "  <tbody>\n",
       "    <tr>\n",
       "      <th>count</th>\n",
       "      <td>1.001000e+03</td>\n",
       "      <td>1001.000000</td>\n",
       "      <td>1001.000000</td>\n",
       "      <td>1001.000000</td>\n",
       "      <td>1001.000000</td>\n",
       "      <td>1001.000000</td>\n",
       "      <td>1001.000000</td>\n",
       "      <td>1001.000000</td>\n",
       "    </tr>\n",
       "    <tr>\n",
       "      <th>mean</th>\n",
       "      <td>6.560589e+11</td>\n",
       "      <td>0.572428</td>\n",
       "      <td>6759.448551</td>\n",
       "      <td>0.541459</td>\n",
       "      <td>0.613387</td>\n",
       "      <td>0.613387</td>\n",
       "      <td>0.615385</td>\n",
       "      <td>0.488511</td>\n",
       "    </tr>\n",
       "    <tr>\n",
       "      <th>std</th>\n",
       "      <td>3.282816e+11</td>\n",
       "      <td>0.494974</td>\n",
       "      <td>7373.588055</td>\n",
       "      <td>0.498527</td>\n",
       "      <td>0.487217</td>\n",
       "      <td>0.487217</td>\n",
       "      <td>0.486747</td>\n",
       "      <td>0.500118</td>\n",
       "    </tr>\n",
       "    <tr>\n",
       "      <th>min</th>\n",
       "      <td>1.020000e+11</td>\n",
       "      <td>0.000000</td>\n",
       "      <td>200.000000</td>\n",
       "      <td>0.000000</td>\n",
       "      <td>0.000000</td>\n",
       "      <td>0.000000</td>\n",
       "      <td>0.000000</td>\n",
       "      <td>0.000000</td>\n",
       "    </tr>\n",
       "    <tr>\n",
       "      <th>25%</th>\n",
       "      <td>3.370000e+11</td>\n",
       "      <td>0.000000</td>\n",
       "      <td>2500.000000</td>\n",
       "      <td>0.000000</td>\n",
       "      <td>0.000000</td>\n",
       "      <td>0.000000</td>\n",
       "      <td>0.000000</td>\n",
       "      <td>0.000000</td>\n",
       "    </tr>\n",
       "    <tr>\n",
       "      <th>50%</th>\n",
       "      <td>8.080000e+11</td>\n",
       "      <td>1.000000</td>\n",
       "      <td>4000.000000</td>\n",
       "      <td>1.000000</td>\n",
       "      <td>1.000000</td>\n",
       "      <td>1.000000</td>\n",
       "      <td>1.000000</td>\n",
       "      <td>0.000000</td>\n",
       "    </tr>\n",
       "    <tr>\n",
       "      <th>75%</th>\n",
       "      <td>9.880000e+11</td>\n",
       "      <td>1.000000</td>\n",
       "      <td>8000.000000</td>\n",
       "      <td>1.000000</td>\n",
       "      <td>1.000000</td>\n",
       "      <td>1.000000</td>\n",
       "      <td>1.000000</td>\n",
       "      <td>1.000000</td>\n",
       "    </tr>\n",
       "    <tr>\n",
       "      <th>max</th>\n",
       "      <td>9.950000e+11</td>\n",
       "      <td>1.000000</td>\n",
       "      <td>30000.000000</td>\n",
       "      <td>1.000000</td>\n",
       "      <td>1.000000</td>\n",
       "      <td>1.000000</td>\n",
       "      <td>1.000000</td>\n",
       "      <td>1.000000</td>\n",
       "    </tr>\n",
       "  </tbody>\n",
       "</table>\n",
       "</div>"
      ],
      "text/plain": [
       "          Aadhar_id  Rationcard_Category  Monthly_Income       Gender  \\\n",
       "count  1.001000e+03          1001.000000     1001.000000  1001.000000   \n",
       "mean   6.560589e+11             0.572428     6759.448551     0.541459   \n",
       "std    3.282816e+11             0.494974     7373.588055     0.498527   \n",
       "min    1.020000e+11             0.000000      200.000000     0.000000   \n",
       "25%    3.370000e+11             0.000000     2500.000000     0.000000   \n",
       "50%    8.080000e+11             1.000000     4000.000000     1.000000   \n",
       "75%    9.880000e+11             1.000000     8000.000000     1.000000   \n",
       "max    9.950000e+11             1.000000    30000.000000     1.000000   \n",
       "\n",
       "       Chronic _Disease  Critical _or _noncritical  Surgery_needed  \\\n",
       "count       1001.000000                1001.000000     1001.000000   \n",
       "mean           0.613387                   0.613387        0.615385   \n",
       "std            0.487217                   0.487217        0.486747   \n",
       "min            0.000000                   0.000000        0.000000   \n",
       "25%            0.000000                   0.000000        0.000000   \n",
       "50%            1.000000                   1.000000        1.000000   \n",
       "75%            1.000000                   1.000000        1.000000   \n",
       "max            1.000000                   1.000000        1.000000   \n",
       "\n",
       "            Target  \n",
       "count  1001.000000  \n",
       "mean      0.488511  \n",
       "std       0.500118  \n",
       "min       0.000000  \n",
       "25%       0.000000  \n",
       "50%       0.000000  \n",
       "75%       1.000000  \n",
       "max       1.000000  "
      ]
     },
     "execution_count": 6,
     "metadata": {},
     "output_type": "execute_result"
    }
   ],
   "source": [
    "hl.describe(include =[np.number])"
   ]
  },
  {
   "cell_type": "code",
   "execution_count": 7,
   "metadata": {
    "id": "nEXEcxFIVL7W"
   },
   "outputs": [
    {
     "data": {
      "image/png": "[encoded data removed]",
      "text/plain": [
       "<Figure size 1296x576 with 2 Axes>"
      ]
     },
     "metadata": {
      "needs_background": "light"
     },
     "output_type": "display_data"
    }
   ],
   "source": [
    "fig, (ax1, ax2) = plt.subplots(nrows=1, ncols=2, sharey=False, figsize=(18,8))\n",
    "\n",
    "ax1 = hl['Target'].value_counts().plot.pie( x=\"Health\" ,y ='no.of needy persons', \n",
    "                   autopct = \"%2.0f%%\",labels=[\"Health\",\"Needy persons\"], startangle = 60,ax=ax1);\n",
    "ax1.set(title = 'Percentage of needy persons in Dataset')\n",
    "colors = ['#99ff99','#ffcc99']\n",
    "\n",
    "ax2 = hl[\"Target\"].value_counts().plot(kind=\"barh\" ,ax =ax2,color=['red','green'])\n",
    "for i,j in enumerate(hl[\"Target\"].value_counts().values):\n",
    "    ax2.text(0.5,i,j,fontsize=14)\n",
    "ax2.set(title = 'No. of Needy persons in Data')\n",
    "plt.show()"
   ]
  },
  {
   "cell_type": "code",
   "execution_count": 8,
   "metadata": {
    "id": "UMfBjhakYEi6"
   },
   "outputs": [
    {
     "name": "stdout",
     "output_type": "stream",
     "text": [
      "==============================\n",
      "Aadhar_id : [199000000000 994000000000 299000000000 399000000000 499000000000\n",
      " 699000000000 114000000000 124000000000 134000000000 992000000000\n",
      " 993000000000 995000000000 231000000000 241000000000 531000000000\n",
      " 251000000000 261000000000 271000000000 281000000000 291000000000\n",
      " 301000000000 311000000000 321000000000 331000000000 341000000000\n",
      " 351000000000 361000000000 371000000000 381000000000 391000000000\n",
      " 401000000000 411000000000 421000000000 431000000000 441000000000\n",
      " 451000000000 461000000000 471000000000 481000000000 491000000000\n",
      " 501000000000 511000000000 521000000000 534000000000 551000000000\n",
      " 561000000000 571000000000 581000000000 601000000000 611000000000\n",
      " 621000000000 631000000000 641000000000 651000000000 661000000000\n",
      " 671000000000 681000000000 988000000000 701000000000 711000000000\n",
      " 721000000000 731000000000 741000000000 751000000000 761000000000\n",
      " 771000000000 808000000000 735000000000 121000000000 322000000000\n",
      " 274000000000 277000000000 801000000000 802000000000 813000000000\n",
      " 815000000000 168000000000 178000000000 818000000000 578000000000\n",
      " 384000000000 803000000000 826000000000 806000000000 827000000000\n",
      " 279000000000 288000000000 866000000000 811000000000 829000000000\n",
      " 828000000000 822000000000 823000000000 824000000000 365000000000\n",
      " 825000000000 484000000000 128000000000 138000000000 148000000000\n",
      " 158000000000 267000000000 821000000000 293000000000 123000000000\n",
      " 108000000000 198000000000 196000000000 191000000000 398000000000\n",
      " 987000000000 337000000000 333000000000 338000000000 486000000000\n",
      " 339000000000 334000000000 340000000000 407000000000 404000000000\n",
      " 585000000000 423000000000 402000000000 417000000000 419000000000\n",
      " 424000000000 425000000000 426000000000 427000000000 428000000000\n",
      " 429000000000 430000000000 432000000000 433000000000 175000000000\n",
      " 204000000000 439000000000 405000000000 409000000000 488000000000\n",
      " 408000000000 102000000000 606000000000 110000000000 111000000000\n",
      " 112000000000 113000000000 115000000000 116000000000 162000000000\n",
      " 163000000000 164000000000 165000000000 166000000000 976000000000\n",
      " 971000000000 972000000000 190000000000 922000000000 923000000000\n",
      " 924000000000 989000000000 760000000000 750000000000 740000000000\n",
      " 730000000000 720000000000 710000000000 700000000000 690000000000\n",
      " 680000000000 670000000000 660000000000 650000000000 640000000000\n",
      " 630000000000 620000000000 610000000000 600000000000 590000000000\n",
      " 580000000000 570000000000 560000000000 550000000000 540000000000\n",
      " 530000000000 520000000000 510000000000 500000000000 490000000000\n",
      " 480000000000 470000000000 460000000000 450000000000 440000000000\n",
      " 420000000000 410000000000 400000000000 390000000000 380000000000\n",
      " 370000000000 360000000000 350000000000 330000000000 320000000000\n",
      " 310000000000 300000000000 290000000000 280000000000 270000000000\n",
      " 260000000000 250000000000 240000000000 230000000000 220000000000\n",
      " 210000000000 200000000000 180000000000 170000000000 160000000000\n",
      " 150000000000 140000000000 130000000000 974000000000 224000000000\n",
      " 234000000000 982000000000 962000000000 952000000000 942000000000\n",
      " 932000000000 912000000000 902000000000 892000000000 882000000000\n",
      " 872000000000 862000000000 852000000000 842000000000 832000000000\n",
      " 812000000000 792000000000 782000000000 772000000000 762000000000\n",
      " 752000000000 742000000000 732000000000 722000000000 712000000000\n",
      " 702000000000 692000000000 682000000000 672000000000 662000000000\n",
      " 652000000000 642000000000 632000000000 622000000000 612000000000\n",
      " 602000000000 592000000000 582000000000 572000000000 562000000000\n",
      " 552000000000 542000000000 532000000000 522000000000 512000000000\n",
      " 502000000000 492000000000 482000000000 472000000000 462000000000\n",
      " 452000000000 442000000000 422000000000 412000000000 392000000000\n",
      " 382000000000 372000000000 362000000000 352000000000 342000000000\n",
      " 332000000000 312000000000 302000000000 292000000000 282000000000\n",
      " 272000000000 262000000000 252000000000 242000000000 232000000000\n",
      " 222000000000 212000000000 202000000000 192000000000 182000000000\n",
      " 172000000000 152000000000 142000000000 132000000000 122000000000\n",
      " 289000000000]\n",
      "==============================\n",
      "Rationcard_Category : [1 0]\n",
      "==============================\n",
      "Monthly_Income : [10000  9000  3000  2000  5000  2500  2300  4300  2600  3100  3200  4000\n",
      "  4200  4600  4150  4630  4900  1900  4400  7000 25000 30000  3160  3400\n",
      "  4700  4850  4670  4820  8000  8900  9200 10050 10100  7500  6540  9800\n",
      "  4563  3800  3900  1200  4250  2800  2900  3210  3211  3260  4987  4658\n",
      "  4500  4800  4870  4625  4325  4650  1320  1650  1950  2320  2200  3600\n",
      "  4560  1800 10800 10900 15000  1300  1600  3500 13000  1000 12000  4320\n",
      "   400   530   900   800   700 20000 24000 29000 26000 16000 22000 23000\n",
      " 24600   790   480 16900  1700  1750  1400  1630  6500 19000  2400  5959\n",
      " 24895  3848  6000   500   650 14000   200   860  2350  6800   680   250\n",
      " 18000  1500   750  3050 27500   450 28000   850  8500 17000   600]\n",
      "==============================\n",
      "Gender : [1 0]\n",
      "==============================\n",
      "Chronic _Disease : [1 0]\n",
      "==============================\n",
      "Critical _or _noncritical : [1 0]\n",
      "==============================\n",
      "Surgery_needed : [1 0]\n",
      "==============================\n",
      "Target : [1 0]\n"
     ]
    }
   ],
   "source": [
    "categorical_val = []\n",
    "continous_val = []\n",
    "for column in hl.columns:\n",
    "    print('==============================')\n",
    "    print(f\"{column} : {hl[column].unique()}\")\n",
    "    if len(hl[column].unique()) <= 10:\n",
    "        categorical_val.append(column)\n",
    "    else:\n",
    "        continous_val.append(column)"
   ]
  },
  {
   "cell_type": "code",
   "execution_count": 9,
   "metadata": {
    "id": "-s43ZVgfYZhp"
   },
   "outputs": [
    {
     "data": {
      "text/plain": [
       "['Rationcard_Category',\n",
       " 'Gender',\n",
       " 'Chronic _Disease',\n",
       " 'Critical _or _noncritical',\n",
       " 'Surgery_needed',\n",
       " 'Target']"
      ]
     },
     "execution_count": 9,
     "metadata": {},
     "output_type": "execute_result"
    }
   ],
   "source": [
    "categorical_val"
   ]
  },
  {
   "cell_type": "code",
   "execution_count": 10,
   "metadata": {
    "id": "MP0HKXhMYi4a"
   },
   "outputs": [
    {
     "data": {
      "image/png": "[encoded data removed]",
      "text/plain": [
       "<Figure size 1080x1080 with 6 Axes>"
      ]
     },
     "metadata": {
      "needs_background": "light"
     },
     "output_type": "display_data"
    }
   ],
   "source": [
    "plt.figure(figsize=(15, 15))\n",
    "\n",
    "for i, column in enumerate(categorical_val, 1):\n",
    "    plt.subplot(3, 3, i)\n",
    "    hl[hl[\"Target\"] == 0][column].hist(bins=35, color='green', label='Needy Persons = NO', alpha=0.6)\n",
    "    hl[hl[\"Target\"] == 1][column].hist(bins=35, color='blue', label='Needy persons = YES', alpha=0.6)\n",
    "    plt.legend()\n",
    "    plt.xlabel(column)"
   ]
  },
  {
   "cell_type": "code",
   "execution_count": 11,
   "metadata": {
    "id": "5B_fKifpY63D"
   },
   "outputs": [
    {
     "data": {
      "image/png": "[encoded data removed]",
      "text/plain": [
       "<Figure size 1080x1080 with 2 Axes>"
      ]
     },
     "metadata": {
      "needs_background": "light"
     },
     "output_type": "display_data"
    }
   ],
   "source": [
    "plt.figure(figsize=(15, 15))\n",
    "\n",
    "for i, column in enumerate(continous_val, 1):\n",
    "    plt.subplot(3, 2, i)\n",
    "    hl[hl[\"Target\"] == 0][column].hist(bins=35, color='red', label='Needy persons = NO', alpha=0.6)\n",
    "    hl[hl[\"Target\"] == 1][column].hist(bins=35, color='black', label='Needy persons = YES', alpha=0.6)\n",
    "    plt.legend()\n",
    "    plt.xlabel(column)"
   ]
  },
  {
   "cell_type": "code",
   "execution_count": 12,
   "metadata": {
    "id": "s1nfz4PCZE1w"
   },
   "outputs": [
    {
     "data": {
      "text/html": [
       "<div>\n",
       "<style scoped>\n",
       "    .dataframe tbody tr th:only-of-type {\n",
       "        vertical-align: middle;\n",
       "    }\n",
       "\n",
       "    .dataframe tbody tr th {\n",
       "        vertical-align: top;\n",
       "    }\n",
       "\n",
       "    .dataframe thead th {\n",
       "        text-align: right;\n",
       "    }\n",
       "</style>\n",
       "<table border=\"1\" class=\"dataframe\">\n",
       "  <thead>\n",
       "    <tr style=\"text-align: right;\">\n",
       "      <th></th>\n",
       "      <th>Aadhar_id</th>\n",
       "      <th>Rationcard_Category</th>\n",
       "      <th>Monthly_Income</th>\n",
       "      <th>Gender</th>\n",
       "      <th>Chronic _Disease</th>\n",
       "      <th>Critical _or _noncritical</th>\n",
       "      <th>Surgery_needed</th>\n",
       "      <th>Target</th>\n",
       "    </tr>\n",
       "  </thead>\n",
       "  <tbody>\n",
       "    <tr>\n",
       "      <th>0</th>\n",
       "      <td>199000000000</td>\n",
       "      <td>1</td>\n",
       "      <td>10000</td>\n",
       "      <td>1</td>\n",
       "      <td>1</td>\n",
       "      <td>1</td>\n",
       "      <td>1</td>\n",
       "      <td>1</td>\n",
       "    </tr>\n",
       "    <tr>\n",
       "      <th>1</th>\n",
       "      <td>994000000000</td>\n",
       "      <td>1</td>\n",
       "      <td>10000</td>\n",
       "      <td>1</td>\n",
       "      <td>1</td>\n",
       "      <td>1</td>\n",
       "      <td>1</td>\n",
       "      <td>1</td>\n",
       "    </tr>\n",
       "    <tr>\n",
       "      <th>2</th>\n",
       "      <td>299000000000</td>\n",
       "      <td>1</td>\n",
       "      <td>10000</td>\n",
       "      <td>1</td>\n",
       "      <td>1</td>\n",
       "      <td>1</td>\n",
       "      <td>1</td>\n",
       "      <td>1</td>\n",
       "    </tr>\n",
       "    <tr>\n",
       "      <th>3</th>\n",
       "      <td>399000000000</td>\n",
       "      <td>1</td>\n",
       "      <td>10000</td>\n",
       "      <td>1</td>\n",
       "      <td>1</td>\n",
       "      <td>1</td>\n",
       "      <td>1</td>\n",
       "      <td>0</td>\n",
       "    </tr>\n",
       "    <tr>\n",
       "      <th>4</th>\n",
       "      <td>499000000000</td>\n",
       "      <td>1</td>\n",
       "      <td>9000</td>\n",
       "      <td>1</td>\n",
       "      <td>0</td>\n",
       "      <td>0</td>\n",
       "      <td>0</td>\n",
       "      <td>1</td>\n",
       "    </tr>\n",
       "  </tbody>\n",
       "</table>\n",
       "</div>"
      ],
      "text/plain": [
       "      Aadhar_id  Rationcard_Category  Monthly_Income  Gender  \\\n",
       "0  199000000000                    1           10000       1   \n",
       "1  994000000000                    1           10000       1   \n",
       "2  299000000000                    1           10000       1   \n",
       "3  399000000000                    1           10000       1   \n",
       "4  499000000000                    1            9000       1   \n",
       "\n",
       "   Chronic _Disease  Critical _or _noncritical  Surgery_needed  Target  \n",
       "0                 1                          1               1       1  \n",
       "1                 1                          1               1       1  \n",
       "2                 1                          1               1       1  \n",
       "3                 1                          1               1       0  \n",
       "4                 0                          0               0       1  "
      ]
     },
     "execution_count": 12,
     "metadata": {},
     "output_type": "execute_result"
    }
   ],
   "source": [
    "hl.head()"
   ]
  },
  {
   "cell_type": "code",
   "execution_count": 13,
   "metadata": {
    "id": "HQ0MRAnsZKpz"
   },
   "outputs": [
    {
     "data": {
      "text/plain": [
       "(8.5, -0.5)"
      ]
     },
     "execution_count": 13,
     "metadata": {},
     "output_type": "execute_result"
    },
    {
     "data": {
      "image/png": "[encoded data removed]",
      "text/plain": [
       "<Figure size 1080x1080 with 2 Axes>"
      ]
     },
     "metadata": {
      "needs_background": "light"
     },
     "output_type": "display_data"
    }
   ],
   "source": [
    "corr_matrix = hl.corr()\n",
    "fig, ax = plt.subplots(figsize=(15, 15))\n",
    "ax = sns.heatmap(corr_matrix,\n",
    "                 annot=True,\n",
    "                 linewidths=0.5,\n",
    "                 fmt=\".2f\",\n",
    "                 cmap=\"YlGnBu\");\n",
    "bottom, top = ax.get_ylim()\n",
    "ax.set_ylim(bottom + 0.5, top - 0.5)"
   ]
  },
  {
   "cell_type": "code",
   "execution_count": 14,
   "metadata": {
    "id": "w3sXEc-IZcj6"
   },
   "outputs": [
    {
     "data": {
      "text/plain": [
       "<AxesSubplot:title={'center':'Correlation with target'}>"
      ]
     },
     "execution_count": 14,
     "metadata": {},
     "output_type": "execute_result"
    },
    {
     "data": {
      "image/png": "[encoded data removed]",
      "text/plain": [
       "<Figure size 864x576 with 1 Axes>"
      ]
     },
     "metadata": {
      "needs_background": "light"
     },
     "output_type": "display_data"
    }
   ],
   "source": [
    "hl.drop('Target', axis=1).corrwith(hl.Target).plot(kind='bar', grid=True, figsize=(12, 8),title=\"Correlation with target\")"
   ]
  },
  {
   "cell_type": "code",
   "execution_count": 15,
   "metadata": {
    "id": "yono8NJpZkGr"
   },
   "outputs": [],
   "source": [
    "categorical_val.remove('Target')\n",
    "dataset = pd.get_dummies(hl, columns = categorical_val)"
   ]
  },
  {
   "cell_type": "code",
   "execution_count": 16,
   "metadata": {
    "id": "oEPFXWxPa4ap"
   },
   "outputs": [
    {
     "data": {
      "text/html": [
       "<div>\n",
       "<style scoped>\n",
       "    .dataframe tbody tr th:only-of-type {\n",
       "        vertical-align: middle;\n",
       "    }\n",
       "\n",
       "    .dataframe tbody tr th {\n",
       "        vertical-align: top;\n",
       "    }\n",
       "\n",
       "    .dataframe thead th {\n",
       "        text-align: right;\n",
       "    }\n",
       "</style>\n",
       "<table border=\"1\" class=\"dataframe\">\n",
       "  <thead>\n",
       "    <tr style=\"text-align: right;\">\n",
       "      <th></th>\n",
       "      <th>Aadhar_id</th>\n",
       "      <th>Monthly_Income</th>\n",
       "      <th>Target</th>\n",
       "      <th>Rationcard_Category_0</th>\n",
       "      <th>Rationcard_Category_1</th>\n",
       "      <th>Gender_0</th>\n",
       "      <th>Gender_1</th>\n",
       "      <th>Chronic _Disease_0</th>\n",
       "      <th>Chronic _Disease_1</th>\n",
       "      <th>Critical _or _noncritical_0</th>\n",
       "      <th>Critical _or _noncritical_1</th>\n",
       "      <th>Surgery_needed_0</th>\n",
       "      <th>Surgery_needed_1</th>\n",
       "    </tr>\n",
       "  </thead>\n",
       "  <tbody>\n",
       "    <tr>\n",
       "      <th>0</th>\n",
       "      <td>199000000000</td>\n",
       "      <td>10000</td>\n",
       "      <td>1</td>\n",
       "      <td>0</td>\n",
       "      <td>1</td>\n",
       "      <td>0</td>\n",
       "      <td>1</td>\n",
       "      <td>0</td>\n",
       "      <td>1</td>\n",
       "      <td>0</td>\n",
       "      <td>1</td>\n",
       "      <td>0</td>\n",
       "      <td>1</td>\n",
       "    </tr>\n",
       "    <tr>\n",
       "      <th>1</th>\n",
       "      <td>994000000000</td>\n",
       "      <td>10000</td>\n",
       "      <td>1</td>\n",
       "      <td>0</td>\n",
       "      <td>1</td>\n",
       "      <td>0</td>\n",
       "      <td>1</td>\n",
       "      <td>0</td>\n",
       "      <td>1</td>\n",
       "      <td>0</td>\n",
       "      <td>1</td>\n",
       "      <td>0</td>\n",
       "      <td>1</td>\n",
       "    </tr>\n",
       "    <tr>\n",
       "      <th>2</th>\n",
       "      <td>299000000000</td>\n",
       "      <td>10000</td>\n",
       "      <td>1</td>\n",
       "      <td>0</td>\n",
       "      <td>1</td>\n",
       "      <td>0</td>\n",
       "      <td>1</td>\n",
       "      <td>0</td>\n",
       "      <td>1</td>\n",
       "      <td>0</td>\n",
       "      <td>1</td>\n",
       "      <td>0</td>\n",
       "      <td>1</td>\n",
       "    </tr>\n",
       "    <tr>\n",
       "      <th>3</th>\n",
       "      <td>399000000000</td>\n",
       "      <td>10000</td>\n",
       "      <td>0</td>\n",
       "      <td>0</td>\n",
       "      <td>1</td>\n",
       "      <td>0</td>\n",
       "      <td>1</td>\n",
       "      <td>0</td>\n",
       "      <td>1</td>\n",
       "      <td>0</td>\n",
       "      <td>1</td>\n",
       "      <td>0</td>\n",
       "      <td>1</td>\n",
       "    </tr>\n",
       "    <tr>\n",
       "      <th>4</th>\n",
       "      <td>499000000000</td>\n",
       "      <td>9000</td>\n",
       "      <td>1</td>\n",
       "      <td>0</td>\n",
       "      <td>1</td>\n",
       "      <td>0</td>\n",
       "      <td>1</td>\n",
       "      <td>1</td>\n",
       "      <td>0</td>\n",
       "      <td>1</td>\n",
       "      <td>0</td>\n",
       "      <td>1</td>\n",
       "      <td>0</td>\n",
       "    </tr>\n",
       "  </tbody>\n",
       "</table>\n",
       "</div>"
      ],
      "text/plain": [
       "      Aadhar_id  Monthly_Income  Target  Rationcard_Category_0  \\\n",
       "0  199000000000           10000       1                      0   \n",
       "1  994000000000           10000       1                      0   \n",
       "2  299000000000           10000       1                      0   \n",
       "3  399000000000           10000       0                      0   \n",
       "4  499000000000            9000       1                      0   \n",
       "\n",
       "   Rationcard_Category_1  Gender_0  Gender_1  Chronic _Disease_0  \\\n",
       "0                      1         0         1                   0   \n",
       "1                      1         0         1                   0   \n",
       "2                      1         0         1                   0   \n",
       "3                      1         0         1                   0   \n",
       "4                      1         0         1                   1   \n",
       "\n",
       "   Chronic _Disease_1  Critical _or _noncritical_0  \\\n",
       "0                   1                            0   \n",
       "1                   1                            0   \n",
       "2                   1                            0   \n",
       "3                   1                            0   \n",
       "4                   0                            1   \n",
       "\n",
       "   Critical _or _noncritical_1  Surgery_needed_0  Surgery_needed_1  \n",
       "0                            1                 0                 1  \n",
       "1                            1                 0                 1  \n",
       "2                            1                 0                 1  \n",
       "3                            1                 0                 1  \n",
       "4                            0                 1                 0  "
      ]
     },
     "execution_count": 16,
     "metadata": {},
     "output_type": "execute_result"
    }
   ],
   "source": [
    "dataset.head()"
   ]
  },
  {
   "cell_type": "code",
   "execution_count": 17,
   "metadata": {
    "id": "wpu3vLQva99u"
   },
   "outputs": [
    {
     "name": "stdout",
     "output_type": "stream",
     "text": [
      "Index(['Aadhar_id', 'Rationcard_Category', 'Monthly_Income', 'Gender',\n",
      "       'Chronic _Disease', 'Critical _or _noncritical', 'Surgery_needed',\n",
      "       'Target'],\n",
      "      dtype='object')\n",
      "Index(['Aadhar_id', 'Monthly_Income', 'Target', 'Rationcard_Category_0',\n",
      "       'Rationcard_Category_1', 'Gender_0', 'Gender_1', 'Chronic _Disease_0',\n",
      "       'Chronic _Disease_1', 'Critical _or _noncritical_0',\n",
      "       'Critical _or _noncritical_1', 'Surgery_needed_0', 'Surgery_needed_1'],\n",
      "      dtype='object')\n"
     ]
    }
   ],
   "source": [
    "print(hl.columns)\n",
    "print(dataset.columns)"
   ]
  },
  {
   "cell_type": "code",
   "execution_count": 18,
   "metadata": {
    "id": "8pMNGPU_bPo3"
   },
   "outputs": [],
   "source": [
    "hl= hl.drop(columns=\"Aadhar_id\")\n"
   ]
  },
  {
   "cell_type": "code",
   "execution_count": 19,
   "metadata": {
    "id": "v2NlAdtLbiNw"
   },
   "outputs": [
    {
     "data": {
      "text/html": [
       "<div>\n",
       "<style scoped>\n",
       "    .dataframe tbody tr th:only-of-type {\n",
       "        vertical-align: middle;\n",
       "    }\n",
       "\n",
       "    .dataframe tbody tr th {\n",
       "        vertical-align: top;\n",
       "    }\n",
       "\n",
       "    .dataframe thead th {\n",
       "        text-align: right;\n",
       "    }\n",
       "</style>\n",
       "<table border=\"1\" class=\"dataframe\">\n",
       "  <thead>\n",
       "    <tr style=\"text-align: right;\">\n",
       "      <th></th>\n",
       "      <th>Rationcard_Category</th>\n",
       "      <th>Monthly_Income</th>\n",
       "      <th>Gender</th>\n",
       "      <th>Chronic _Disease</th>\n",
       "      <th>Critical _or _noncritical</th>\n",
       "      <th>Surgery_needed</th>\n",
       "      <th>Target</th>\n",
       "    </tr>\n",
       "  </thead>\n",
       "  <tbody>\n",
       "    <tr>\n",
       "      <th>0</th>\n",
       "      <td>1</td>\n",
       "      <td>10000</td>\n",
       "      <td>1</td>\n",
       "      <td>1</td>\n",
       "      <td>1</td>\n",
       "      <td>1</td>\n",
       "      <td>1</td>\n",
       "    </tr>\n",
       "    <tr>\n",
       "      <th>1</th>\n",
       "      <td>1</td>\n",
       "      <td>10000</td>\n",
       "      <td>1</td>\n",
       "      <td>1</td>\n",
       "      <td>1</td>\n",
       "      <td>1</td>\n",
       "      <td>1</td>\n",
       "    </tr>\n",
       "    <tr>\n",
       "      <th>2</th>\n",
       "      <td>1</td>\n",
       "      <td>10000</td>\n",
       "      <td>1</td>\n",
       "      <td>1</td>\n",
       "      <td>1</td>\n",
       "      <td>1</td>\n",
       "      <td>1</td>\n",
       "    </tr>\n",
       "    <tr>\n",
       "      <th>3</th>\n",
       "      <td>1</td>\n",
       "      <td>10000</td>\n",
       "      <td>1</td>\n",
       "      <td>1</td>\n",
       "      <td>1</td>\n",
       "      <td>1</td>\n",
       "      <td>0</td>\n",
       "    </tr>\n",
       "    <tr>\n",
       "      <th>4</th>\n",
       "      <td>1</td>\n",
       "      <td>9000</td>\n",
       "      <td>1</td>\n",
       "      <td>0</td>\n",
       "      <td>0</td>\n",
       "      <td>0</td>\n",
       "      <td>1</td>\n",
       "    </tr>\n",
       "  </tbody>\n",
       "</table>\n",
       "</div>"
      ],
      "text/plain": [
       "   Rationcard_Category  Monthly_Income  Gender  Chronic _Disease  \\\n",
       "0                    1           10000       1                 1   \n",
       "1                    1           10000       1                 1   \n",
       "2                    1           10000       1                 1   \n",
       "3                    1           10000       1                 1   \n",
       "4                    1            9000       1                 0   \n",
       "\n",
       "   Critical _or _noncritical  Surgery_needed  Target  \n",
       "0                          1               1       1  \n",
       "1                          1               1       1  \n",
       "2                          1               1       1  \n",
       "3                          1               1       0  \n",
       "4                          0               0       1  "
      ]
     },
     "execution_count": 19,
     "metadata": {},
     "output_type": "execute_result"
    }
   ],
   "source": [
    "hl.head()"
   ]
  },
  {
   "cell_type": "code",
   "execution_count": 20,
   "metadata": {
    "id": "yy8BYtxmbwXN"
   },
   "outputs": [
    {
     "data": {
      "text/plain": [
       "(1001, 7)"
      ]
     },
     "execution_count": 20,
     "metadata": {},
     "output_type": "execute_result"
    }
   ],
   "source": [
    "hl.shape"
   ]
  },
  {
   "cell_type": "code",
   "execution_count": 21,
   "metadata": {
    "id": "QVMbJBw4b3zD"
   },
   "outputs": [],
   "source": [
    "from sklearn.model_selection import train_test_split\n",
    "\n",
    "X = hl.drop('Target', axis=1)\n",
    "y = hl.Target\n",
    "\n",
    "X_train, X_test, y_train, y_test = train_test_split(X, y, test_size=0.3, random_state=5)"
   ]
  },
  {
   "cell_type": "code",
   "execution_count": 22,
   "metadata": {
    "id": "xsPAMCuUcQd-"
   },
   "outputs": [
    {
     "name": "stdout",
     "output_type": "stream",
     "text": [
      "Distribution of target variable in training set\n",
      "0    364\n",
      "1    336\n",
      "Name: Target, dtype: int64\n",
      "Distribution of target variable in test set\n",
      "1    153\n",
      "0    148\n",
      "Name: Target, dtype: int64\n"
     ]
    }
   ],
   "source": [
    "print('Distribution of target variable in training set')\n",
    "print(y_train.value_counts())\n",
    "\n",
    "print('Distribution of target variable in test set')\n",
    "print(y_test.value_counts())"
   ]
  },
  {
   "cell_type": "code",
   "execution_count": 23,
   "metadata": {
    "id": "ojClMNTGcZGi"
   },
   "outputs": [
    {
     "name": "stdout",
     "output_type": "stream",
     "text": [
      "------------Training Set------------------\n",
      "(700, 6)\n",
      "(700,)\n",
      "------------Test Set------------------\n",
      "(301, 6)\n",
      "(301,)\n"
     ]
    }
   ],
   "source": [
    "print('------------Training Set------------------')\n",
    "print(X_train.shape)\n",
    "print(y_train.shape)\n",
    "\n",
    "print('------------Test Set------------------')\n",
    "print(X_test.shape)\n",
    "print(y_test.shape)"
   ]
  },
  {
   "cell_type": "code",
   "execution_count": 24,
   "metadata": {
    "id": "AXKQI5ALd0dZ"
   },
   "outputs": [
    {
     "name": "stdout",
     "output_type": "stream",
     "text": [
      "Accuracy of our SVM model on the training data is 0.61 out of 1\n",
      "Accuracy of our SVM model on the test data is 0.65 out of 1\n",
      "Confusion Matrix of SVM:\n",
      "[[ 56  92]\n",
      " [ 14 139]]\n",
      "Testing Accuracy of SVM : 0.6478405315614618\n",
      "Classification Report : \n",
      "              precision    recall  f1-score   support\n",
      "\n",
      "           0       0.80      0.38      0.51       148\n",
      "           1       0.60      0.91      0.72       153\n",
      "\n",
      "    accuracy                           0.65       301\n",
      "   macro avg       0.70      0.64      0.62       301\n",
      "weighted avg       0.70      0.65      0.62       301\n",
      "\n",
      "544    0\n",
      "515    1\n",
      "193    1\n",
      "11     0\n",
      "279    0\n",
      "      ..\n",
      "477    0\n",
      "562    0\n",
      "636    0\n",
      "510    1\n",
      "905    1\n",
      "Name: Target, Length: 301, dtype: int64\n",
      "[1 0 1 1 1 1 1 1 1 1 1 1 1 0 1 1 1 0 1 1 0 1 1 1 0 0 0 1 1 1 1 0 1 1 1 1 1\n",
      " 1 1 0 1 0 1 1 0 1 1 1 1 0 1 0 0 1 1 1 1 1 0 1 1 1 1 0 0 1 1 1 0 0 1 1 1 1\n",
      " 1 0 1 1 1 1 1 1 1 1 1 1 1 1 1 1 1 1 0 1 1 1 0 0 1 1 1 1 1 1 1 1 1 1 1 0 1\n",
      " 1 1 0 0 1 1 0 1 1 1 1 1 1 1 1 0 1 1 1 1 1 1 0 0 1 1 1 1 1 1 1 1 1 1 1 1 1\n",
      " 0 0 1 1 1 1 1 1 1 1 1 0 1 1 0 0 1 1 0 0 0 1 1 1 0 1 1 0 1 1 1 0 0 1 0 1 1\n",
      " 1 1 1 1 0 1 1 1 1 1 1 1 1 1 1 1 0 1 1 1 0 1 0 1 1 1 1 1 1 1 1 0 1 0 1 1 1\n",
      " 1 1 0 1 0 1 1 0 1 0 1 1 1 1 1 1 1 1 1 1 0 1 1 1 0 1 0 1 1 1 1 0 1 1 1 1 1\n",
      " 1 1 1 1 0 1 1 0 1 1 1 1 0 1 1 1 0 0 1 0 1 0 0 1 1 1 1 1 0 1 1 1 0 1 1 0 1\n",
      " 0 0 1 1 1]\n"
     ]
    }
   ],
   "source": [
    "from sklearn import svm\n",
    "from sklearn.metrics import classification_report, confusion_matrix,accuracy_score\n",
    "\n",
    "model_svm = svm.SVC()\n",
    "model_svm.fit(X_train,y_train)\n",
    "print('Accuracy of our SVM model on the training data is {:.2f} out of 1'.format(model_svm.score(X_train, y_train)))\n",
    "print('Accuracy of our SVM model on the test data is {:.2f} out of 1'.format(model_svm.score(X_test, y_test)))\n",
    "y_svm_pred = model_svm.predict(X_test)\n",
    "print(\"Confusion Matrix of SVM:\")\n",
    "print(confusion_matrix(y_test, y_svm_pred))\n",
    "print(\"Testing Accuracy of SVM :\", accuracy_score(y_test,y_svm_pred))\n",
    "print(\"Classification Report : \")\n",
    "print(classification_report(y_test, y_svm_pred))\n",
    "print(y_test)\n",
    "print(y_svm_pred)"
   ]
  },
  {
   "cell_type": "code",
   "execution_count": 25,
   "metadata": {
    "id": "Y6agPQ8cd8eg"
   },
   "outputs": [
    {
     "name": "stdout",
     "output_type": "stream",
     "text": [
      "Accuracy of our RF model on the training data is 0.95 out of 1\n",
      "Accuracy of our RF model on the test data is 0.89 out of 1\n",
      "Confusion Matrix of Random Forest:\n",
      "[[124  24]\n",
      " [ 10 143]]\n",
      "Accuracy of Random Forest : 0.8870431893687708\n",
      "Classification Report : \n",
      "              precision    recall  f1-score   support\n",
      "\n",
      "           0       0.93      0.84      0.88       148\n",
      "           1       0.86      0.93      0.89       153\n",
      "\n",
      "    accuracy                           0.89       301\n",
      "   macro avg       0.89      0.89      0.89       301\n",
      "weighted avg       0.89      0.89      0.89       301\n",
      "\n",
      "544    0\n",
      "515    1\n",
      "193    1\n",
      "11     0\n",
      "279    0\n",
      "      ..\n",
      "477    0\n",
      "562    0\n",
      "636    0\n",
      "510    1\n",
      "905    1\n",
      "Name: Target, Length: 301, dtype: int64\n",
      "[0 1 1 1 0 1 0 1 1 0 0 1 0 0 0 1 0 0 1 1 1 1 0 1 0 1 1 1 1 1 1 0 0 1 0 1 1\n",
      " 0 1 0 1 0 0 1 0 1 1 1 0 0 1 1 0 1 0 1 0 1 0 1 0 1 1 0 0 1 1 1 1 1 1 0 1 1\n",
      " 0 0 0 1 1 1 1 1 0 1 1 0 1 0 1 1 0 1 0 0 1 0 0 1 1 1 0 1 0 1 0 0 1 1 1 1 1\n",
      " 1 1 0 0 1 0 0 1 1 1 1 0 1 0 1 0 0 0 1 0 1 1 1 0 0 1 1 1 0 1 0 1 0 1 0 0 0\n",
      " 0 0 0 1 0 0 1 1 1 1 1 0 0 1 0 0 1 1 0 0 0 1 0 1 0 0 1 0 1 0 1 0 1 0 1 0 1\n",
      " 1 1 0 0 0 0 0 1 1 1 1 0 0 1 1 1 0 1 0 0 0 0 0 0 1 0 1 1 0 1 1 0 1 0 1 1 0\n",
      " 1 1 0 0 0 0 1 0 1 0 1 1 0 0 1 1 1 1 1 1 1 1 1 1 1 0 0 1 1 1 1 0 1 1 1 0 1\n",
      " 0 0 1 1 1 0 0 0 1 1 0 0 0 1 0 0 0 0 1 0 0 1 0 1 1 1 1 1 0 1 1 1 0 1 1 0 1\n",
      " 0 0 1 1 1]\n"
     ]
    }
   ],
   "source": [
    "from sklearn.ensemble import RandomForestClassifier\n",
    "\n",
    "model_rf = RandomForestClassifier(n_estimators=100)\n",
    "model_rf.fit(X_train,y_train)\n",
    "print('Accuracy of our RF model on the training data is {:.2f} out of 1'.format(model_rf.score(X_train, y_train)))\n",
    "print('Accuracy of our RF model on the test data is {:.2f} out of 1'.format(model_rf.score(X_test, y_test)))\n",
    "\n",
    "y_rf_pred = model_rf.predict(X_test)\n",
    "\n",
    "print(\"Confusion Matrix of Random Forest:\")\n",
    "print(confusion_matrix(y_test, y_rf_pred))\n",
    "print(\"Accuracy of Random Forest :\", accuracy_score(y_test,y_rf_pred))\n",
    "print(\"Classification Report : \")\n",
    "print(classification_report(y_test, y_rf_pred))\n",
    "print(y_test)\n",
    "print(y_rf_pred)"
   ]
  },
  {
   "cell_type": "code",
   "execution_count": 26,
   "metadata": {
    "id": "mE9IK4SOeFA6"
   },
   "outputs": [
    {
     "name": "stdout",
     "output_type": "stream",
     "text": [
      "Accuracy of our ADA model on the training data is 0.94 out of 1\n",
      "Accuracy of our ADA model on the test data is 0.90 out of 1\n",
      "Accuracy:  0.9036544850498339\n",
      "\n",
      "\n",
      "Confusion Matrix:  [[125   6]\n",
      " [ 23 147]]\n",
      "\n",
      "\n",
      "Precision:  [0.84459459 0.96078431]\n",
      "Recall:     [0.95419847 0.86470588]\n",
      "Fscore:     [0.89605735 0.91021672]\n",
      "Support:    [131 170]\n"
     ]
    }
   ],
   "source": [
    "from sklearn.ensemble import AdaBoostClassifier\n",
    "from sklearn.metrics import confusion_matrix\n",
    "from sklearn.metrics import precision_recall_fscore_support\n",
    "from sklearn.metrics import accuracy_score\n",
    "model_ada = AdaBoostClassifier()\n",
    "model_ada.fit(X_train,y_train)\n",
    "print('Accuracy of our ADA model on the training data is {:.2f} out of 1'.format(model_ada.score(X_train, y_train)))\n",
    "print('Accuracy of our ADA model on the test data is {:.2f} out of 1'.format(model_ada.score(X_test, y_test)))\n",
    "\n",
    "prediction = model_ada.predict(X_test)\n",
    "accuracy = accuracy_score(prediction,y_test)\n",
    "cm = confusion_matrix(prediction,y_test)\n",
    "prfs = precision_recall_fscore_support(prediction,y_test)\n",
    "print('Accuracy: ',accuracy)\n",
    "print('\\n')\n",
    "print('Confusion Matrix: ',cm)\n",
    "print('\\n')\n",
    "print('Precision: ', prfs[0])\n",
    "print('Recall:    ', prfs[1])\n",
    "print('Fscore:    ', prfs[2])\n",
    "print('Support:   ', prfs[3])"
   ]
  },
  {
   "cell_type": "code",
   "execution_count": 27,
   "metadata": {
    "id": "VRla0tVLein1"
   },
   "outputs": [
    {
     "name": "stdout",
     "output_type": "stream",
     "text": [
      "Accuracy of our KNN model on the training data is 0.91 out of 1\n",
      "Accuracy of our KNN model on the test data is 0.89 out of 1\n",
      "Accuracy:  0.8903654485049833\n",
      "\n",
      "\n",
      "Confusion Matrix:  [[121   6]\n",
      " [ 27 147]]\n",
      "\n",
      "\n",
      "Precision:  [0.81756757 0.96078431]\n",
      "Recall:     [0.95275591 0.84482759]\n",
      "Fscore:     [0.88       0.89908257]\n",
      "Support:    [127 174]\n"
     ]
    }
   ],
   "source": [
    "from sklearn.neighbors import KNeighborsClassifier\n",
    "\n",
    "model_knn = KNeighborsClassifier()\n",
    "model_knn.fit(X_train, y_train)\n",
    "print('Accuracy of our KNN model on the training data is {:.2f} out of 1'.format(model_knn.score(X_train, y_train)))\n",
    "print('Accuracy of our KNN model on the test data is {:.2f} out of 1'.format(model_knn.score(X_test, y_test)))\n",
    "\n",
    "prediction = model_knn.predict(X_test)\n",
    "accuracy = accuracy_score(prediction,y_test)\n",
    "cm = confusion_matrix(prediction,y_test)\n",
    "prfs = precision_recall_fscore_support(prediction,y_test)\n",
    "print('Accuracy: ',accuracy)\n",
    "print('\\n')\n",
    "print('Confusion Matrix: ',cm)\n",
    "print('\\n')\n",
    "print('Precision: ', prfs[0])\n",
    "print('Recall:    ', prfs[1])\n",
    "print('Fscore:    ', prfs[2])\n",
    "print('Support:   ', prfs[3])"
   ]
  },
  {
   "cell_type": "code",
   "execution_count": 28,
   "metadata": {
    "id": "2f8gOyy0epM2"
   },
   "outputs": [
    {
     "name": "stdout",
     "output_type": "stream",
     "text": [
      "Accuracy of our LR model on the training data is 0.92 out of 1\n",
      "Accuracy of our LR model on the test data is 0.89 out of 1\n",
      "Accuracy:  0.8903654485049833\n",
      "\n",
      "\n",
      "Confusion Matrix:  [[121   6]\n",
      " [ 27 147]]\n",
      "\n",
      "\n",
      "Precision:  [0.81756757 0.96078431]\n",
      "Recall:     [0.95275591 0.84482759]\n",
      "Fscore:     [0.88       0.89908257]\n",
      "Support:    [127 174]\n"
     ]
    }
   ],
   "source": [
    "from sklearn.linear_model import LogisticRegression\n",
    "\n",
    "model_lr = LogisticRegression(solver='liblinear')\n",
    "model_lr.fit(X_train, y_train)\n",
    "print('Accuracy of our LR model on the training data is {:.2f} out of 1'.format(model_lr.score(X_train, y_train)))\n",
    "print('Accuracy of our LR model on the test data is {:.2f} out of 1'.format(model_lr.score(X_test, y_test)))\n",
    "\n",
    "prediction = model_lr.predict(X_test)\n",
    "accuracy = accuracy_score(prediction,y_test)\n",
    "cm = confusion_matrix(prediction,y_test)\n",
    "prfs = precision_recall_fscore_support(prediction,y_test)\n",
    "print('Accuracy: ',accuracy)\n",
    "print('\\n')\n",
    "print('Confusion Matrix: ',cm)\n",
    "print('\\n')\n",
    "print('Precision: ', prfs[0])\n",
    "print('Recall:    ', prfs[1])\n",
    "print('Fscore:    ', prfs[2])\n",
    "print('Support:   ', prfs[3])\n"
   ]
  },
  {
   "cell_type": "code",
   "execution_count": 29,
   "metadata": {
    "id": "Nbr5V_Grew7U"
   },
   "outputs": [
    {
     "name": "stdout",
     "output_type": "stream",
     "text": [
      "Accuracy of our DT model on the training data is 0.95 out of 1\n",
      "Accuracy of our DT model on the test data is 0.89 out of 1\n",
      "Accuracy:  0.8903654485049833\n",
      "\n",
      "\n",
      "Confusion Matrix:  [[126  11]\n",
      " [ 22 142]]\n",
      "\n",
      "\n",
      "Precision:  [0.85135135 0.92810458]\n",
      "Recall:     [0.91970803 0.86585366]\n",
      "Fscore:     [0.88421053 0.89589905]\n",
      "Support:    [137 164]\n"
     ]
    }
   ],
   "source": [
    "from sklearn.tree import DecisionTreeClassifier\n",
    "\n",
    "\n",
    "model_dt = DecisionTreeClassifier(random_state=42)\n",
    "model_dt.fit(X_train, y_train)\n",
    "\n",
    "print('Accuracy of our DT model on the training data is {:.2f} out of 1'.format(model_dt.score(X_train, y_train)))\n",
    "print('Accuracy of our DT model on the test data is {:.2f} out of 1'.format(model_dt.score(X_test, y_test)))\n",
    "\n",
    "prediction = model_dt.predict(X_test)\n",
    "accuracy = accuracy_score(prediction,y_test)\n",
    "cm = confusion_matrix(prediction,y_test)\n",
    "prfs = precision_recall_fscore_support(prediction,y_test)\n",
    "print('Accuracy: ',accuracy)\n",
    "print('\\n')\n",
    "print('Confusion Matrix: ',cm)\n",
    "print('\\n')\n",
    "print('Precision: ', prfs[0])\n",
    "print('Recall:    ', prfs[1])\n",
    "print('Fscore:    ', prfs[2])\n",
    "print('Support:   ', prfs[3])"
   ]
  },
  {
   "cell_type": "code",
   "execution_count": 31,
   "metadata": {
    "id": "NRqSPtbSe3K8"
   },
   "outputs": [
    {
     "name": "stdout",
     "output_type": "stream",
     "text": [
      "[13:01:18] WARNING: C:/Users/Administrator/workspace/xgboost-win64_release_1.4.0/src/learner.cc:1095: Starting in XGBoost 1.3.0, the default evaluation metric used with the objective 'binary:logistic' was changed from 'error' to 'logloss'. Explicitly set eval_metric if you'd like to restore the old behavior.\n",
      "Accuracy of our XGB model on the training data is 0.94 out of 1\n",
      "Accuracy of our XGB model on the test data is 0.90 out of 1\n",
      "Accuracy:  0.9036544850498339\n",
      "\n",
      "\n",
      "Confusion Matrix:  [[125   6]\n",
      " [ 23 147]]\n",
      "\n",
      "\n",
      "Precision:  [0.84459459 0.96078431]\n",
      "Recall:     [0.95419847 0.86470588]\n",
      "Fscore:     [0.89605735 0.91021672]\n",
      "Support:    [131 170]\n"
     ]
    }
   ],
   "source": [
    "from xgboost import XGBClassifier\n",
    "\n",
    "model_xgb = XGBClassifier()\n",
    "model_xgb.fit(X_train, y_train)\n",
    "print('Accuracy of our XGB model on the training data is {:.2f} out of 1'.format(model_xgb.score(X_train, y_train)))\n",
    "print('Accuracy of our XGB model on the test data is {:.2f} out of 1'.format(model_xgb.score(X_test, y_test)))\n",
    "\n",
    "prediction = model_xgb.predict(X_test)\n",
    "accuracy = accuracy_score(prediction,y_test)\n",
    "cm = confusion_matrix(prediction,y_test)\n",
    "prfs = precision_recall_fscore_support(prediction,y_test)\n",
    "print('Accuracy: ',accuracy)\n",
    "print('\\n')\n",
    "print('Confusion Matrix: ',cm)\n",
    "print('\\n')\n",
    "print('Precision: ', prfs[0])\n",
    "print('Recall:    ', prfs[1])\n",
    "print('Fscore:    ', prfs[2])\n",
    "print('Support:   ', prfs[3])\n"
   ]
  },
  {
   "cell_type": "code",
   "execution_count": 111,
   "metadata": {
    "id": "bbodt2sCe9Tx"
   },
   "outputs": [
    {
     "name": "stdout",
     "output_type": "stream",
     "text": [
      "Accuracy of our NB model on the training data is 0.91 out of 1\n",
      "Accuracy of our NB model on the test data is 0.89 out of 1\n",
      "Accuracy:  0.8870431893687708\n",
      "\n",
      "\n",
      "Confusion Matrix:  [[119   5]\n",
      " [ 29 148]]\n",
      "\n",
      "\n",
      "Precision:  [0.80405405 0.96732026]\n",
      "Recall:     [0.95967742 0.83615819]\n",
      "Fscore:     [0.875     0.8969697]\n",
      "Support:    [124 177]\n"
     ]
    }
   ],
   "source": [
    "from sklearn.naive_bayes import GaussianNB\n",
    "\n",
    "model_nb = GaussianNB() \n",
    "model_nb.fit(X_train, y_train) \n",
    "print('Accuracy of our NB model on the training data is {:.2f} out of 1'.format(model_nb.score(X_train, y_train)))\n",
    "print('Accuracy of our NB model on the test data is {:.2f} out of 1'.format(model_nb.score(X_test, y_test)))\n",
    "\n",
    "prediction = model_nb.predict(X_test)\n",
    "accuracy = accuracy_score(prediction,y_test)\n",
    "cm = confusion_matrix(prediction,y_test)\n",
    "prfs = precision_recall_fscore_support(prediction,y_test)\n",
    "print('Accuracy: ',accuracy)\n",
    "print('\\n')\n",
    "print('Confusion Matrix: ',cm)\n",
    "print('\\n')\n",
    "print('Precision: ', prfs[0])\n",
    "print('Recall:    ', prfs[1])\n",
    "print('Fscore:    ', prfs[2])\n",
    "print('Support:   ', prfs[3])\n"
   ]
  },
  {
   "cell_type": "code",
   "execution_count": 32,
   "metadata": {},
   "outputs": [
    {
     "data": {
      "image/png": "[encoded data removed]",
      "text/plain": [
       "<Figure size 432x288 with 1 Axes>"
      ]
     },
     "metadata": {
      "needs_background": "light"
     },
     "output_type": "display_data"
    }
   ],
   "source": [
    "import matplotlib.pyplot as plt\n",
    "\n",
    "# set the initial x-values to what you are wanting to plot\n",
    "x=['NB','XGB','DT','LR','KNN','ADA','RF','SVM']\n",
    "y=[88.7,\n",
    "90.36,\n",
    "89.03,\n",
    "89.03,\n",
    "89.03,\n",
    "90.36,\n",
    "88.70,\n",
    "64.70]\n",
    "\n",
    "bars = plt.bar(x, height=y, width=.6)\n",
    "\n",
    "xlocs, xlabs = plt.xticks()\n",
    "\n",
    "# reference x so you don't need to change the range each time x changes\n",
    "xlocs=[i for i in x]\n",
    "xlabs=[i for i in x]\n",
    "\n",
    "plt.title(\"Performance Evaluation - Health dataset\")\n",
    "plt.xlabel('Classification Algorithms')\n",
    "plt.ylabel('Accuracy')\n",
    "plt.xticks(xlocs, xlabs)\n",
    "\n",
    "for bar in bars:\n",
    "    yval = bar.get_height()\n",
    "    plt.text(bar.get_x(), yval + .005, yval)\n",
    "\n",
    "plt.show()"
   ]
  },
  {
   "cell_type": "code",
   "execution_count": null,
   "metadata": {},
   "outputs": [],
   "source": []
  }
 ],
 "metadata": {
  "accelerator": "GPU",
  "colab": {
   "name": "Health.ipynb",
   "provenance": []
  },
  "kernelspec": {
   "display_name": "Python 3",
   "language": "python",
   "name": "python3"
  },
  "language_info": {
   "codemirror_mode": {
    "name": "ipython",
    "version": 3
   },
   "file_extension": ".py",
   "mimetype": "text/x-python",
   "name": "python",
   "nbconvert_exporter": "python",
   "pygments_lexer": "ipython3",
   "version": "3.8.5"
  }
 },
 "nbformat": 4,
 "nbformat_minor": 1
}
